{
 "cells": [
  {
   "cell_type": "markdown",
   "metadata": {},
   "source": [
    "## LAPLACIAN FILTER PROJECT ASSIGNMENT CODE"
   ]
  },
  {
   "cell_type": "markdown",
   "metadata": {},
   "source": [
    "#### IMPORTING  LIBRARIES"
   ]
  },
  {
   "cell_type": "code",
   "execution_count": 3,
   "metadata": {},
   "outputs": [],
   "source": [
    "import cv2                            ### Computer Vision Library for Filtering\n",
    "from os import listdir                ### reading dataset from directory\n",
    "from matplotlib import image          ### For reading image\n",
    "import matplotlib.pyplot as plt       ### For Visualzation of image "
   ]
  },
  {
   "cell_type": "markdown",
   "metadata": {},
   "source": [
    "#### LOAD DATASET FROM GIVEN PATH "
   ]
  },
  {
   "cell_type": "code",
   "execution_count": 4,
   "metadata": {},
   "outputs": [
    {
     "name": "stdout",
     "output_type": "stream",
     "text": [
      "> loaded 1.jpg (500, 1192)\n",
      "> loaded 2.jpg (440, 455)\n",
      "> loaded 3.jpg (1000, 683)\n",
      "> loaded 4.jpg (600, 570)\n",
      "> loaded 5.jpg (500, 500)\n",
      "> loaded 6.jpg (500, 500)\n",
      "> loaded 7.jpg (500, 500)\n"
     ]
    }
   ],
   "source": [
    "loaded_images = list()                                        ### create an empty list to store images data\n",
    "dataset_path = 'C:\\\\Users\\\\PREET\\\\Data_set\\\\'                  ### set path of dataset \n",
    "for filename in listdir(dataset_path):                        ### using loop to read images inside dataset\n",
    "    img_data = image.imread(dataset_path + filename)          ### now, reading images step by step\n",
    "    loaded_images.append(img_data)                            ###  move all images to above created empty list \n",
    "    print('> loaded %s %s' % (filename, img_data.shape))      ###  filename and shape of images\n",
    "    #plt.axis(\"off\")                                           ###  remvoing axis of image to display it more clearly\n",
    "    #plt.imshow(img_data)                                      ### displaying images 1 by 1\n",
    "    #plt.show()                                                ### use when display only images not detail about images"
   ]
  },
  {
   "cell_type": "markdown",
   "metadata": {},
   "source": [
    "#### APPLYING SPATIAL FILTER (MEDIAN FILTER) "
   ]
  },
  {
   "cell_type": "code",
   "execution_count": 9,
   "metadata": {},
   "outputs": [
    {
     "name": "stdout",
     "output_type": "stream",
     "text": [
      "> loaded [[  2   2   5 ...   4   2   2]\n",
      " [  2  11 183 ... 188  10   2]\n",
      " [ 11 190 191 ... 193 184  10]\n",
      " ...\n",
      " [  3 193 194 ... 195 190   2]\n",
      " [  3  19 183 ... 185  17   2]\n",
      " [  0   0  19 ...  17   0   0]] (500, 1192)\n",
      "> loaded [[241 245 248 ... 246 248 248]\n",
      " [241 248 249 ... 246 248 250]\n",
      " [249 249 248 ... 245 248 248]\n",
      " ...\n",
      " [239 233 229 ... 156 160 161]\n",
      " [233 233 230 ... 161 160 160]\n",
      " [238 234 234 ... 162 164 169]] (440, 455)\n",
      "> loaded [[0 0 0 ... 0 0 0]\n",
      " [0 0 0 ... 0 0 0]\n",
      " [0 0 0 ... 0 0 0]\n",
      " ...\n",
      " [4 4 1 ... 0 0 0]\n",
      " [4 4 1 ... 0 0 0]\n",
      " [4 4 1 ... 0 0 0]] (1000, 683)\n",
      "> loaded [[0 0 0 ... 0 0 0]\n",
      " [0 0 0 ... 0 0 0]\n",
      " [0 0 0 ... 0 0 0]\n",
      " ...\n",
      " [0 0 0 ... 0 0 0]\n",
      " [0 0 0 ... 0 0 0]\n",
      " [0 0 0 ... 0 0 0]] (600, 570)\n",
      "> loaded [[132 132 132 ... 187 187 183]\n",
      " [132 132 132 ... 187 183 178]\n",
      " [132 132 132 ... 176 176 168]\n",
      " ...\n",
      " [141 137 132 ... 246 243 241]\n",
      " [147 141 132 ... 241 239 237]\n",
      " [152 143 133 ... 241 237 232]] (500, 500)\n",
      "> loaded [[132 132 132 ... 187 187 183]\n",
      " [132 132 132 ... 187 183 178]\n",
      " [132 132 132 ... 176 176 168]\n",
      " ...\n",
      " [141 137 132 ... 246 243 241]\n",
      " [147 141 132 ... 241 239 237]\n",
      " [152 143 133 ... 241 237 232]] (500, 500)\n",
      "> loaded [[229 229 229 ... 232 236 249]\n",
      " [229 229 229 ... 231 232 232]\n",
      " [229 229 229 ... 229 230 230]\n",
      " ...\n",
      " [229 229 229 ... 229 232 232]\n",
      " [229 229 229 ... 230 233 233]\n",
      " [229 229 229 ... 230 234 236]] (500, 500)\n"
     ]
    }
   ],
   "source": [
    "loaded_images = list()                                        \n",
    "dataset_path = 'C:\\\\Users\\\\PREET\\\\Data_set\\\\'                  \n",
    "for filename in listdir(dataset_path):                        \n",
    "    img_data = image.imread(dataset_path + filename)          \n",
    "    med_filter = cv2.medianBlur(img_data, 3)                      \n",
    "    loaded_images.append(med_filter)                           \n",
    "    print('> loaded %s %s' % (med_filter,med_filter.shape))          \n",
    "    #plt.axis(\"off\")                                           \n",
    "    #plt.imshow(gray, cmap = \"gray\")                          \n",
    "    #plt.show()                                                "
   ]
  },
  {
   "cell_type": "markdown",
   "metadata": {},
   "source": [
    "####  CANNY FILTER (Edge Detection)"
   ]
  },
  {
   "cell_type": "code",
   "execution_count": 16,
   "metadata": {},
   "outputs": [
    {
     "name": "stdout",
     "output_type": "stream",
     "text": [
      "> loaded 1.jpg (500, 1192)\n",
      "> loaded 2.jpg (440, 455)\n",
      "> loaded 3.jpg (1000, 683)\n",
      "> loaded 4.jpg (600, 570)\n",
      "> loaded 5.jpg (500, 500)\n",
      "> loaded 6.jpg (500, 500)\n",
      "> loaded 7.jpg (500, 500)\n"
     ]
    }
   ],
   "source": [
    "loaded_images = list()                                        \n",
    "dataset_path = 'C:\\\\Users\\\\PREET\\\\Data_set\\\\'                  \n",
    "for filename in listdir(dataset_path):                       \n",
    "    img_data = image.imread(dataset_path + filename)          \n",
    "    can  = cv2.Canny(img_data, 100,200)                     \n",
    "    loaded_images.append(can)                                 \n",
    "    print('> loaded %s %s' % (filename, can.shape))           \n",
    "    #plt.axis(\"off\")                                          \n",
    "    #plt.imshow(lap, cmap = \"gray\")                          \n",
    "    #plt.show()                                               "
   ]
  },
  {
   "cell_type": "markdown",
   "metadata": {},
   "source": [
    "####  SOBEL FILTER (Edge Detection)  "
   ]
  },
  {
   "cell_type": "code",
   "execution_count": 17,
   "metadata": {},
   "outputs": [
    {
     "name": "stdout",
     "output_type": "stream",
     "text": [
      "> loaded 1.jpg (500, 1192)\n",
      "> loaded 2.jpg (440, 455)\n",
      "> loaded 3.jpg (1000, 683)\n",
      "> loaded 4.jpg (600, 570)\n",
      "> loaded 5.jpg (500, 500)\n",
      "> loaded 6.jpg (500, 500)\n",
      "> loaded 7.jpg (500, 500)\n"
     ]
    }
   ],
   "source": [
    "loaded_images = list()                                       \n",
    "dataset_path = 'C:\\\\Users\\\\PREET\\\\Data_set\\\\'                  \n",
    "for filename in listdir(dataset_path):                        \n",
    "    img_data = image.imread(dataset_path + filename)          \n",
    "    sobelx = cv2.Sobel(img_data,cv2.CV_64F,1,0,ksize=5)                      \n",
    "    loaded_images.append(sobelx)                                 \n",
    "    print('> loaded %s %s' % (filename, sobelx.shape))           \n",
    "    #plt.axis(\"off\")                                         \n",
    "    #plt.imshow(lap, cmap = \"gray\")                           \n",
    "    #plt.show()                                              "
   ]
  },
  {
   "cell_type": "markdown",
   "metadata": {},
   "source": [
    "#### APPLY LAPLACIAN FILTER ON IMAGES DATASET DIRECTLY TO VIEW RESULTS"
   ]
  },
  {
   "cell_type": "code",
   "execution_count": 8,
   "metadata": {},
   "outputs": [
    {
     "name": "stdout",
     "output_type": "stream",
     "text": [
      "> loaded 1.jpg (500, 1192)\n",
      "> loaded 2.jpg (440, 455)\n",
      "> loaded 3.jpg (1000, 683)\n",
      "> loaded 4.jpg (600, 570)\n",
      "> loaded 5.jpg (500, 500)\n",
      "> loaded 6.jpg (500, 500)\n",
      "> loaded 7.jpg (500, 500)\n"
     ]
    }
   ],
   "source": [
    "loaded_images = list()                                        \n",
    "dataset_path = 'C:\\\\Users\\\\PREET\\\\Data_set\\\\'                 \n",
    "for filename in listdir(dataset_path):                       \n",
    "    img_data = image.imread(dataset_path + filename)          \n",
    "    lap  = cv2.Laplacian(img_data,cv2.CV_64F)                     ### applying Laplacian Filter on images\n",
    "    loaded_images.append(lap)                                 \n",
    "    print('> loaded %s %s' % (filename, lap.shape))           \n",
    "    #plt.axis(\"off\")                                          \n",
    "    #plt.imshow(lap, cmap = \"gray\")                          \n",
    "    #plt.show()                                               "
   ]
  },
  {
   "cell_type": "markdown",
   "metadata": {},
   "source": [
    "#### NOTE:: "
   ]
  },
  {
   "cell_type": "markdown",
   "metadata": {},
   "source": [
    "in above code, the results of applying laplacian filter directly on gray images can be seen which highlight edges inside an image but it removes some important scene of the image. Laplacian filter works perfectly only for important edge features but it does not gives good results for all edge features of an image.  "
   ]
  },
  {
   "cell_type": "markdown",
   "metadata": {},
   "source": [
    "How to overcome this issue?\n",
    "first apply Guassian Filter to remove noise from images.Then, apply laplacian filter on guassian image. "
   ]
  },
  {
   "cell_type": "markdown",
   "metadata": {},
   "source": [
    "### Apply Laplacian Of Guassian Filter on image to imporve performance "
   ]
  },
  {
   "cell_type": "markdown",
   "metadata": {},
   "source": [
    "#### 1 - APPLY GUASSIAN FILTER ON GRAY IMAGES DATASET"
   ]
  },
  {
   "cell_type": "code",
   "execution_count": 11,
   "metadata": {},
   "outputs": [
    {
     "name": "stdout",
     "output_type": "stream",
     "text": [
      "> loaded 1.jpg (500, 1192)\n",
      "> loaded 2.jpg (440, 455)\n",
      "> loaded 3.jpg (1000, 683)\n",
      "> loaded 4.jpg (600, 570)\n",
      "> loaded 5.jpg (500, 500)\n",
      "> loaded 6.jpg (500, 500)\n",
      "> loaded 7.jpg (500, 500)\n"
     ]
    }
   ],
   "source": [
    "loaded_images = list()                                        \n",
    "dataset_path = 'C:\\\\Users\\\\PREET\\\\Data_set\\\\'                  \n",
    "for filename in listdir(dataset_path):                        \n",
    "    img_data = image.imread(dataset_path + filename)          \n",
    "    guassian =cv2.GaussianBlur(img_data,(5,5),0)                  ### applying guassian filter on images\n",
    "    loaded_images.append(guassian)                            \n",
    "    print('> loaded %s %s' % (filename, guassian.shape))     \n",
    "    #plt.axis(\"off\")                                         \n",
    "    #plt.imshow(guassian, cmap = \"gray\")                      \n",
    "    #plt.show()                                               "
   ]
  },
  {
   "cell_type": "markdown",
   "metadata": {},
   "source": [
    "#### 2 - APPLY LAPLACIAN FILTER ON GUASSIAN IMAGE DATASET "
   ]
  },
  {
   "cell_type": "code",
   "execution_count": 13,
   "metadata": {},
   "outputs": [
    {
     "name": "stdout",
     "output_type": "stream",
     "text": [
      "> loaded 1.jpg (500, 1192)\n",
      "> loaded 2.jpg (440, 455)\n",
      "> loaded 3.jpg (1000, 683)\n",
      "> loaded 4.jpg (600, 570)\n",
      "> loaded 5.jpg (500, 500)\n",
      "> loaded 6.jpg (500, 500)\n",
      "> loaded 7.jpg (500, 500)\n"
     ]
    }
   ],
   "source": [
    "loaded_images = list()                                       \n",
    "dataset_path = 'C:\\\\Users\\\\PREET\\\\Data_set\\\\'                  \n",
    "for filename in listdir(dataset_path):                        \n",
    "    img_data = image.imread(dataset_path + filename)          \n",
    "    guassian =cv2.GaussianBlur(img_data,(5,5),0)                  ###  applying guassian filter on images\n",
    "    lap  = cv2.Laplacian(guassian,cv2.CV_64F)                \n",
    "    loaded_images.append(lap)                                \n",
    "    print('> loaded %s %s' % (filename, lap.shape))           \n",
    "    #plt.axis(\"off\")                                         \n",
    "    #plt.imshow(lap, cmap = \"gray\")                          \n",
    "    #plt.show()                                               "
   ]
  },
  {
   "cell_type": "markdown",
   "metadata": {},
   "source": [
    " applying Laplacian filter on Gussian images gives much better result than applying directly on an image. "
   ]
  },
  {
   "cell_type": "markdown",
   "metadata": {},
   "source": [
    "#### References"
   ]
  },
  {
   "cell_type": "markdown",
   "metadata": {},
   "source": [
    "https://code.tutsplus.com/tutorials/image-filtering-in-python--cms-29202"
   ]
  }
 ],
 "metadata": {
  "kernelspec": {
   "display_name": "Python 3",
   "language": "python",
   "name": "python3"
  },
  "language_info": {
   "codemirror_mode": {
    "name": "ipython",
    "version": 3
   },
   "file_extension": ".py",
   "mimetype": "text/x-python",
   "name": "python",
   "nbconvert_exporter": "python",
   "pygments_lexer": "ipython3",
   "version": "3.7.6"
  }
 },
 "nbformat": 4,
 "nbformat_minor": 2
}
